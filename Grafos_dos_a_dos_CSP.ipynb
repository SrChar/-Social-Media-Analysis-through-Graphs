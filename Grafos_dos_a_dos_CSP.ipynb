{
 "cells": [
  {
   "cell_type": "markdown",
   "id": "d4c4bd71",
   "metadata": {},
   "source": [
    "### Este código nos sirve para ver las relaciones entre teorías dos a dos."
   ]
  },
  {
   "cell_type": "code",
   "execution_count": 1,
   "id": "bb726e92",
   "metadata": {},
   "outputs": [],
   "source": [
    "import os\n",
    "import json\n",
    "\n",
    "GRUPOS_FOLDER = \"grupos\"\n",
    "CATEGORIAS = os.listdir('grupos')"
   ]
  },
  {
   "cell_type": "code",
   "execution_count": 2,
   "id": "5375fb38-32e7-43b4-9b88-be6c30feaf6d",
   "metadata": {},
   "outputs": [
    {
     "data": {
      "text/plain": [
       "'.ipynb_checkpoints'"
      ]
     },
     "execution_count": 2,
     "metadata": {},
     "output_type": "execute_result"
    }
   ],
   "source": [
    "CATEGORIAS.pop(0)"
   ]
  },
  {
   "cell_type": "code",
   "execution_count": 3,
   "id": "9c00190d",
   "metadata": {},
   "outputs": [
    {
     "name": "stdout",
     "output_type": "stream",
     "text": [
      "['grupos_Antivacunas', 'grupos_illuminati', 'grupos_Ovnis', 'grupos_terraplanismo', 'grupo_paranormal']\n"
     ]
    }
   ],
   "source": [
    "print(CATEGORIAS)"
   ]
  },
  {
   "cell_type": "code",
   "execution_count": 4,
   "id": "b7e54ddc-6a78-4101-b960-9b5291e02a57",
   "metadata": {},
   "outputs": [
    {
     "data": {
      "text/plain": [
       "['grupos_Antivacunas',\n",
       " 'grupos_illuminati',\n",
       " 'grupos_Ovnis',\n",
       " 'grupos_terraplanismo',\n",
       " 'grupo_paranormal']"
      ]
     },
     "execution_count": 4,
     "metadata": {},
     "output_type": "execute_result"
    }
   ],
   "source": [
    "CATEGORIAS"
   ]
  },
  {
   "cell_type": "code",
   "execution_count": 5,
   "id": "41093a55",
   "metadata": {},
   "outputs": [],
   "source": [
    "def get_usuarios(categoria, grupo):\n",
    "    with open(f'{GRUPOS_FOLDER}/{categoria}/{grupo}', 'r', encoding='utf-8') as file:\n",
    "        data = json.load(file)\n",
    "\n",
    "    usuarios = set()\n",
    "    aristas = []\n",
    "\n",
    "    # Recorrer los mensajes para identificar los usuarios únicos\n",
    "    for message in data['messages']:      \n",
    "        if 'from_id' in message:\n",
    "            usuario = message['from_id']\n",
    "            usuarios.add(usuario)\n",
    "            \n",
    "    return list(usuarios)"
   ]
  },
  {
   "cell_type": "code",
   "execution_count": 6,
   "id": "fa218fb8-c5d8-4c9f-8d2f-1f1a6fa8cc30",
   "metadata": {},
   "outputs": [],
   "source": [
    "import networkx as nx\n",
    "import os\n",
    "import itertools\n",
    "\n",
    "grafos = []\n",
    "\n",
    "# Crear combinaciones de dos categorías\n",
    "categoria_combinaciones = list(itertools.combinations(CATEGORIAS, 2))\n",
    "\n",
    "# Contador para nombrar grafos\n",
    "grafo_id = 1\n",
    "\n",
    "for comb in categoria_combinaciones:\n",
    "    g = nx.Graph()  # Crear un nuevo grafo para cada combinación\n",
    "    # Procesar cada categoría en el par\n",
    "    for categoria in comb:\n",
    "        grupos = [grp for grp in os.listdir(f\"{GRUPOS_FOLDER}/{categoria}\") if grp != '.ipynb_checkpoints']\n",
    "        for grupo in grupos:\n",
    "            usuarios = get_usuarios(categoria, grupo)\n",
    "            for usuario in usuarios:\n",
    "                if not g.has_node(usuario):\n",
    "                    g.add_node(usuario)\n",
    "                # Añadir aristas entre el usuario y la categoría\n",
    "                g.add_edge(usuario, categoria)\n",
    "    grafos.append(g)  # Añadir el grafo a la lista\n",
    "    globals()[f'grafo{grafo_id}'] = g  # Asignar el grafo a una variable con nombre dinámico\n",
    "    grafo_id += 1  # Incrementar el contador de grafos\n",
    "\n",
    "# Ahora la lista 'grafos' contiene todos los grafos generados\n"
   ]
  },
  {
   "cell_type": "code",
   "execution_count": 7,
   "id": "40f5f2cd-db04-4795-b049-a97b9e7a45a0",
   "metadata": {},
   "outputs": [
    {
     "name": "stdout",
     "output_type": "stream",
     "text": [
      "[<networkx.classes.graph.Graph object at 0x000002DE554B9100>, <networkx.classes.graph.Graph object at 0x000002DE555378E0>, <networkx.classes.graph.Graph object at 0x000002DE55591EB0>, <networkx.classes.graph.Graph object at 0x000002DE543CD310>, <networkx.classes.graph.Graph object at 0x000002DE55537940>, <networkx.classes.graph.Graph object at 0x000002DE555A16A0>, <networkx.classes.graph.Graph object at 0x000002DE54484820>, <networkx.classes.graph.Graph object at 0x000002DE544AC340>, <networkx.classes.graph.Graph object at 0x000002DE5447D850>, <networkx.classes.graph.Graph object at 0x000002DE5448F340>]\n"
     ]
    }
   ],
   "source": [
    "print(grafos)"
   ]
  },
  {
   "cell_type": "code",
   "execution_count": 9,
   "id": "c1b6247e",
   "metadata": {},
   "outputs": [],
   "source": [
    "for i in range(len(grafos)):\n",
    "    nx.write_gml(grafos[i], f\"grafo_dos_a_dos_{i+1}.gml\")"
   ]
  },
  {
   "cell_type": "code",
   "execution_count": null,
   "id": "b1b54cf3",
   "metadata": {},
   "outputs": [],
   "source": []
  }
 ],
 "metadata": {
  "kernelspec": {
   "display_name": "Python 3 (ipykernel)",
   "language": "python",
   "name": "python3"
  },
  "language_info": {
   "codemirror_mode": {
    "name": "ipython",
    "version": 3
   },
   "file_extension": ".py",
   "mimetype": "text/x-python",
   "name": "python",
   "nbconvert_exporter": "python",
   "pygments_lexer": "ipython3",
   "version": "3.9.12"
  }
 },
 "nbformat": 4,
 "nbformat_minor": 5
}
