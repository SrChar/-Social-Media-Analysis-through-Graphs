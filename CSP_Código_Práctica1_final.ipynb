{
 "cells": [
  {
   "cell_type": "markdown",
   "id": "a5061a56",
   "metadata": {},
   "source": [
    "### Este código nos sirve para sacar el grafo general de las 5 teorías"
   ]
  },
  {
   "cell_type": "code",
   "execution_count": 2,
   "id": "bb726e92",
   "metadata": {},
   "outputs": [],
   "source": [
    "import os\n",
    "import json\n",
    "\n",
    "GRUPOS_FOLDER = \"grupos\"\n",
    "CATEGORIAS = os.listdir('grupos')"
   ]
  },
  {
   "cell_type": "code",
   "execution_count": 3,
   "id": "5375fb38-32e7-43b4-9b88-be6c30feaf6d",
   "metadata": {},
   "outputs": [
    {
     "data": {
      "text/plain": [
       "'.ipynb_checkpoints'"
      ]
     },
     "execution_count": 3,
     "metadata": {},
     "output_type": "execute_result"
    }
   ],
   "source": [
    "CATEGORIAS.pop(0)"
   ]
  },
  {
   "cell_type": "code",
   "execution_count": 4,
   "id": "5b3b593d",
   "metadata": {},
   "outputs": [
    {
     "name": "stdout",
     "output_type": "stream",
     "text": [
      "['grupos_Antivacunas', 'grupos_illuminati', 'grupos_Ovnis', 'grupos_terraplanismo', 'grupo_paranormal']\n"
     ]
    }
   ],
   "source": [
    "print(CATEGORIAS)"
   ]
  },
  {
   "cell_type": "code",
   "execution_count": 5,
   "id": "b7e54ddc-6a78-4101-b960-9b5291e02a57",
   "metadata": {},
   "outputs": [
    {
     "data": {
      "text/plain": [
       "['grupos_Antivacunas',\n",
       " 'grupos_illuminati',\n",
       " 'grupos_Ovnis',\n",
       " 'grupos_terraplanismo',\n",
       " 'grupo_paranormal']"
      ]
     },
     "execution_count": 5,
     "metadata": {},
     "output_type": "execute_result"
    }
   ],
   "source": [
    "CATEGORIAS"
   ]
  },
  {
   "cell_type": "code",
   "execution_count": 6,
   "id": "41093a55",
   "metadata": {},
   "outputs": [],
   "source": [
    "def get_usuarios(categoria, grupo):\n",
    "    with open(f'{GRUPOS_FOLDER}/{categoria}/{grupo}', 'r', encoding='utf-8') as file:\n",
    "        data = json.load(file)\n",
    "\n",
    "    usuarios = set()\n",
    "    aristas = []\n",
    "\n",
    "    # Recorrer los mensajes para identificar los usuarios únicos\n",
    "    for message in data['messages']:      \n",
    "        if 'from_id' in message:\n",
    "            usuario = message['from_id']\n",
    "            usuarios.add(usuario)\n",
    "            \n",
    "    return list(usuarios)"
   ]
  },
  {
   "cell_type": "code",
   "execution_count": 7,
   "id": "c93e8978-849d-43c8-8fcd-1d276240c19b",
   "metadata": {},
   "outputs": [
    {
     "name": "stdout",
     "output_type": "stream",
     "text": [
      "grupos_Antivacunas\n",
      "['.ipynb_checkpoints', 'Antivacunas+.json', 'familias_unidas_vacunas.json', 'famosos_antivacunas.json']\n",
      "154\n",
      "5471\n",
      "3\n",
      "grupos_illuminati\n",
      "['anti-illuminati.json', 'cartas_illuminati.json']\n",
      "5078\n",
      "141\n",
      "grupos_Ovnis\n",
      "['.ipynb_checkpoints', 'ovnis1.json', 'Ovnis2.json', 'ovnis3.json', 'ovnis4.json', 'ovnis5.json', 'Ovnis6.json', 'ovnis_en_el_mundo_chat.json', 'Ufologia_Ovnis y Vida Terrestre.json', 'UFOS_in_the_world_chat.json']\n",
      "1\n",
      "181\n",
      "86\n",
      "205\n",
      "315\n",
      "48\n",
      "371\n",
      "4941\n",
      "446\n",
      "grupos_terraplanismo\n",
      "['terraplanismo.json', 'terraplanismo2.json', 'terraplanismo3.json', 'terraplanismo4.json', 'terraplanismo5.json', 'terraplanismo6.json']\n",
      "2288\n",
      "805\n",
      "246\n",
      "118\n",
      "21\n",
      "114\n",
      "grupo_paranormal\n",
      "['Paranormal_Ocultos.json', 'viajes_astrales_tematica_paranormal.json']\n",
      "454\n",
      "2175\n"
     ]
    }
   ],
   "source": [
    "import networkx as nx\n",
    "\n",
    "g = nx.Graph()\n",
    "\n",
    "for categoria in CATEGORIAS:\n",
    "    print(categoria)\n",
    "    grupos = os.listdir(f\"{GRUPOS_FOLDER}/{categoria}\")\n",
    "    print(grupos)\n",
    "    g.add_node(categoria)\n",
    "    \n",
    "    for grupo in grupos:\n",
    "        if grupo != '.ipynb_checkpoints':\n",
    "            usuarios = get_usuarios(categoria, grupo)\n",
    "            print(len(usuarios))\n",
    "            for usuario in usuarios:\n",
    "                #print(usuario)\n",
    "                if not (g.has_node(usuario)):\n",
    "                    g.add_node(usuario)\n",
    "                g.add_edge(usuario, categoria)        "
   ]
  },
  {
   "cell_type": "code",
   "execution_count": 8,
   "id": "bedb6b32",
   "metadata": {},
   "outputs": [],
   "source": [
    "nx.write_gml(g, \"grafo_final_teorias.gml\")"
   ]
  },
  {
   "cell_type": "code",
   "execution_count": null,
   "id": "784b4683",
   "metadata": {},
   "outputs": [],
   "source": [
    "\n",
    "# Se puede dibujar el grafo pero al tratarse de muchos nodos va a tardar demasiado, es recomendable \n",
    "# abrirlo en Gephi\n",
    "  \n",
    "import matplotlib.pyplot as plt\n",
    "\n",
    "nx.draw_networkx(g)"
   ]
  },
  {
   "cell_type": "markdown",
   "id": "058edd51",
   "metadata": {},
   "source": [
    "#### Las métricas tardan bastante debido a la magnitud del grafo, así que las hemos cogido la mayoría desde Gephi."
   ]
  },
  {
   "cell_type": "code",
   "execution_count": 9,
   "id": "ad87ff22",
   "metadata": {},
   "outputs": [
    {
     "data": {
      "text/plain": [
       "4"
      ]
     },
     "execution_count": 9,
     "metadata": {},
     "output_type": "execute_result"
    }
   ],
   "source": [
    "nx.diameter(g)"
   ]
  },
  {
   "cell_type": "code",
   "execution_count": null,
   "id": "464e0d37",
   "metadata": {},
   "outputs": [],
   "source": [
    "print(f\"El camino geodésico medio es: {nx.average_shortest_path_length(g):.2f}\")"
   ]
  },
  {
   "cell_type": "markdown",
   "id": "e7c02350-fe09-4da5-907a-4f718746e2f2",
   "metadata": {},
   "source": []
  }
 ],
 "metadata": {
  "kernelspec": {
   "display_name": "Python 3 (ipykernel)",
   "language": "python",
   "name": "python3"
  },
  "language_info": {
   "codemirror_mode": {
    "name": "ipython",
    "version": 3
   },
   "file_extension": ".py",
   "mimetype": "text/x-python",
   "name": "python",
   "nbconvert_exporter": "python",
   "pygments_lexer": "ipython3",
   "version": "3.9.12"
  }
 },
 "nbformat": 4,
 "nbformat_minor": 5
}
